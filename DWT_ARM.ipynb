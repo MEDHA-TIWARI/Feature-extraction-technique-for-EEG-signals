{
 "cells": [
  {
   "cell_type": "code",
   "execution_count": 3,
   "metadata": {},
   "outputs": [
    {
     "name": "stdout",
     "output_type": "stream",
     "text": [
      "(1, 140)\n",
      "(1, 140)\n",
      "(140,)\n",
      "(140,)\n",
      "(1152, 3, 140)\n",
      "(140, 2, 448)\n",
      "(140, 2, 448)\n"
     ]
    }
   ],
   "source": [
    "#load_data\n",
    "import scipy.io\n",
    "import numpy as np\n",
    "import mne\n",
    "from scipy import signal\n",
    "data=scipy.io.loadmat('dataset_BCIcomp1.mat')\n",
    "data_test=data['x_test']\n",
    "data_train=data['x_train']\n",
    "label_train=data['y_train'].reshape(1,-1)-1\n",
    "label=scipy.io.loadmat('y_test.mat')\n",
    "label_test=label['y_test'].reshape(1,-1)-1\n",
    "print(label_test.shape)\n",
    "print(label_train.shape)\n",
    "y_train=label_train[0]\n",
    "y_test=label_test[0]\n",
    "print(y_train.shape)\n",
    "print(y_test.shape)\n",
    "b,a=signal.butter(8,[(16/128),(64/128)],'bandpass')\n",
    "buffer_x_test=signal.filtfilt(b,a,data_test,axis=0)\n",
    "buffer_x_train=signal.filtfilt(b,a,data_train,axis=0)\n",
    "print(buffer_x_test.shape)\n",
    "all_x_train=np.transpose(buffer_x_train,[2,1,0])\n",
    "all_x_test=np.transpose(buffer_x_test,[2,1,0])\n",
    "x_train=all_x_train[:,0::2,448:896]\n",
    "print(x_train.shape)\n",
    "x_test=all_x_test[:,0::2,448:896]\n",
    "print(x_test.shape)\n"
   ]
  },
  {
   "cell_type": "code",
   "execution_count": 4,
   "metadata": {},
   "outputs": [
    {
     "name": "stdout",
     "output_type": "stream",
     "text": [
      "(117,)\n",
      "(62,)\n",
      "(227,)\n",
      "(62,)\n",
      "(140, 2, 448)\n",
      "(140, 2, 448)\n",
      "(140, 2, 448)\n",
      "(140, 2, 448)\n"
     ]
    }
   ],
   "source": [
    "#decompose and reconstruct EEG signals\n",
    "import pywt\n",
    "db4=pywt.Wavelet('db4')\n",
    "cA3,cD3,cD2,cD1= pywt.wavedec(x_train[1,1,:],db4,mode='symmetric',level=3)\n",
    "print(cD2.shape)\n",
    "print(cA3.shape)\n",
    "print(cD1.shape)\n",
    "print(cD3.shape)\n",
    "cD2=np.zeros(117)\n",
    "cA3=np.zeros(62)\n",
    "cD1=np.zeros(227)\n",
    "x_zz3=pywt.waverec([cA3,cD3,cD2,cD1],db4)\n",
    "import pywt\n",
    "db4=pywt.Wavelet('db4')\n",
    "def Dwt(X):\n",
    "    cA3,cD3,cD2,cD1 = pywt.wavedec(X,db4,mode='symmetric',level=3)\n",
    "    return cA3,cD3,cD2,cD1\n",
    "def cD3_features(x):\n",
    "    Bands_D3=np.empty((x.shape[0],x.shape[1],448))\n",
    "    for i in range(x.shape[0]):\n",
    "        for ii in range(x.shape[1]):\n",
    "            cA3,cD3,cD2,cD1=Dwt(x[i,ii,:])\n",
    "            cA3=np.zeros(62)\n",
    "            cD2=np.zeros(117)\n",
    "            cD1=np.zeros(227)\n",
    "            Bands_D3[i,ii,:]=pywt.waverec([cA3,cD3,cD2,cD1],db4)\n",
    "    return Bands_D3\n",
    "def cD2_features(x):\n",
    "    Bands_D2=np.empty((x.shape[0],x.shape[1],448))\n",
    "    for i in range(x.shape[0]):\n",
    "        for ii in range(x.shape[1]):\n",
    "            cA3,cD3,cD2,cD1=Dwt(x[i,ii,:])\n",
    "            cA3=np.zeros(62)\n",
    "            cD3=np.zeros(62)\n",
    "            cD1=np.zeros(227)\n",
    "            Bands_D2[i,ii,:]=pywt.waverec([cA3,cD3,cD2,cD1],db4)\n",
    "    return Bands_D2\n",
    "x_train_d3=cD3_features(x_train)\n",
    "x_train_d2=cD2_features(x_train)\n",
    "x_test_d3=cD3_features(x_test)\n",
    "x_test_d2=cD2_features(x_test)\n",
    "print(x_train_d3.shape)\n",
    "print(x_test_d3.shape)\n",
    "print(x_train_d2.shape)\n",
    "print(x_test_d2.shape)"
   ]
  },
  {
   "cell_type": "code",
   "execution_count": 4,
   "metadata": {},
   "outputs": [
    {
     "name": "stdout",
     "output_type": "stream",
     "text": [
      "Collecting statsmodels\n",
      "  Downloading statsmodels-0.11.1-cp38-none-win32.whl (7.8 MB)\n",
      "Collecting patsy>=0.5\n",
      "  Downloading patsy-0.5.1-py2.py3-none-any.whl (231 kB)\n",
      "Requirement already satisfied: pandas>=0.21 in c:\\users\\medha\\appdata\\local\\programs\\python\\python38-32\\lib\\site-packages (from statsmodels) (1.0.3)\n",
      "Requirement already satisfied: scipy>=1.0 in c:\\users\\medha\\appdata\\local\\programs\\python\\python38-32\\lib\\site-packages (from statsmodels) (1.4.1)\n",
      "Requirement already satisfied: numpy>=1.14 in c:\\users\\medha\\appdata\\local\\programs\\python\\python38-32\\lib\\site-packages (from statsmodels) (1.18.4)\n",
      "Requirement already satisfied: six in c:\\users\\medha\\appdata\\local\\programs\\python\\python38-32\\lib\\site-packages (from patsy>=0.5->statsmodels) (1.14.0)\n",
      "Requirement already satisfied: pytz>=2017.2 in c:\\users\\medha\\appdata\\local\\programs\\python\\python38-32\\lib\\site-packages (from pandas>=0.21->statsmodels) (2020.1)\n",
      "Requirement already satisfied: python-dateutil>=2.6.1 in c:\\users\\medha\\appdata\\local\\programs\\python\\python38-32\\lib\\site-packages (from pandas>=0.21->statsmodels) (2.8.1)\n",
      "Installing collected packages: patsy, statsmodels\n",
      "Successfully installed patsy-0.5.1 statsmodels-0.11.1\n"
     ]
    }
   ],
   "source": [
    "!pip install statsmodels"
   ]
  },
  {
   "cell_type": "code",
   "execution_count": 5,
   "metadata": {},
   "outputs": [],
   "source": [
    "#calcutue AR coef of each  channel in EEG signals of different frequency bands\n",
    "from statsmodels.tsa.ar_model import AR\n",
    "def get_ARcoef(x):\n",
    "    model=AR(x)\n",
    "    model_fit=model.fit(maxlag=5)\n",
    "    coef=model_fit.params\n",
    "    return coef\n",
    "def get_features(x,y):\n",
    "    for i in range(140):\n",
    "        for j in range(2):\n",
    "            y[i,j]=get_ARcoef(x[i,j])\n",
    "    return y"
   ]
  },
  {
   "cell_type": "code",
   "execution_count": 14,
   "metadata": {},
   "outputs": [
    {
     "name": "stdout",
     "output_type": "stream",
     "text": [
      "(140, 2, 6)\n"
     ]
    }
   ],
   "source": [
    "d3_train_coef=np.zeros((140,2,6))\n",
    "d3_test_coef=np.zeros((140,2,6))\n",
    "d2_train_coef=np.zeros((140,2,6))\n",
    "d2_test_coef=np.zeros((140,2,6))\n",
    "d3_train_features=get_features(x_train_d3,d3_train_coef)\n",
    "d2_train_features=get_features(x_train_d2,d2_train_coef)\n",
    "d3_test_features=get_features(x_test_d3,d3_test_coef)\n",
    "d2_test_features=get_features(x_test_d2,d2_test_coef)\n",
    "print(d3_train_features.shape)\n"
   ]
  },
  {
   "cell_type": "code",
   "execution_count": 15,
   "metadata": {},
   "outputs": [
    {
     "name": "stdout",
     "output_type": "stream",
     "text": [
      "(140, 24)\n",
      "(140, 24)\n"
     ]
    }
   ],
   "source": [
    "#concatenate and normalize the coef as extracted features\n",
    "from sklearn import preprocessing\n",
    "from sklearn.metrics import accuracy_score\n",
    "acc=[]\n",
    "ss = preprocessing.StandardScaler()\n",
    "X_train=ss.fit_transform(np.concatenate((d3_train_features[:,0,:],d3_train_features[:,1,:],d2_train_features[:,0,:],d2_train_features[:,1,:]),axis=1))\n",
    "X_test=ss.transform(np.concatenate((d3_test_features[:,0,:],d3_test_features[:,1,:],d2_test_features[:,0,:],d2_test_features[:,1,:]),axis=1))\n",
    "print(X_train.shape)\n",
    "print(X_test.shape)"
   ]
  }
 ],
 "metadata": {
  "kernelspec": {
   "display_name": "Python 3",
   "language": "python",
   "name": "python3"
  },
  "language_info": {
   "codemirror_mode": {
    "name": "ipython",
    "version": 3
   },
   "file_extension": ".py",
   "mimetype": "text/x-python",
   "name": "python",
   "nbconvert_exporter": "python",
   "pygments_lexer": "ipython3",
   "version": "3.8.2"
  }
 },
 "nbformat": 4,
 "nbformat_minor": 4
}
